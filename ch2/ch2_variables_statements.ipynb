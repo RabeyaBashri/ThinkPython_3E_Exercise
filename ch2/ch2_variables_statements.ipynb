{
 "cells": [
  {
   "cell_type": "code",
   "execution_count": 24,
   "id": "676be927",
   "metadata": {},
   "outputs": [
    {
     "name": "stdout",
     "output_type": "stream",
     "text": [
      "x :  91111\n",
      "y :  91111\n",
      "Volume :  523.5987755982989\n",
      "7.3890560989306495\n",
      "7.3890560989306495\n",
      "7.38905609893065\n"
     ]
    }
   ],
   "source": [
    "##EXERCISE\n",
    "\n",
    "##1\n",
    "#17 = n ##SyntaxError: cannot assign to literal here.\n",
    "\n",
    "##2\n",
    "x=y=91111\n",
    "print('x : ',x)\n",
    "print('y : ', y)\n",
    "\n",
    "'''\n",
    "x :  91111\n",
    "y :  91111\n",
    "'''\n",
    "\n",
    "##3\n",
    "age = 20;\n",
    "\n",
    "##4\n",
    "x = 10.\n",
    "x ##Teat as a floating point 10.0\n",
    "\n",
    "##5\n",
    "##import maath ##ModuleNotFoundError: No module named 'maath'\n",
    "\n",
    "##EXERCISE\n",
    "\n",
    "##PART1\n",
    "\n",
    "'''radiius - cm\n",
    "volumn - cubic cm'''\n",
    "\n",
    "import math\n",
    "\n",
    "radius = 5\n",
    "'''pi = 3.14\n",
    "\n",
    "volume =  (4/3) * pi * (radius**3)'''\n",
    "\n",
    "volume =  (4/3) * math.pi * (radius**3)\n",
    "\n",
    "print('Volume : ',volume)\n",
    "\n",
    "##PART2\n",
    "\n",
    "x = 42\n",
    "\n",
    "math.cos(x)**2 + math.sin(x)**2\n",
    "\n",
    "##PART3\n",
    "\n",
    "##1\n",
    "\n",
    "print(math.e ** 2)\n",
    "\n",
    "##2\n",
    "\n",
    "print(math.pow(math.e,2))\n",
    "\n",
    "##3\n",
    "\n",
    "print(math.exp(2))"
   ]
  },
  {
   "cell_type": "code",
   "execution_count": null,
   "id": "f71f8f6f",
   "metadata": {},
   "outputs": [],
   "source": []
  },
  {
   "cell_type": "code",
   "execution_count": null,
   "id": "b2e9c212",
   "metadata": {},
   "outputs": [],
   "source": []
  }
 ],
 "metadata": {
  "kernelspec": {
   "display_name": "Python 3",
   "language": "python",
   "name": "python3"
  },
  "language_info": {
   "codemirror_mode": {
    "name": "ipython",
    "version": 3
   },
   "file_extension": ".py",
   "mimetype": "text/x-python",
   "name": "python",
   "nbconvert_exporter": "python",
   "pygments_lexer": "ipython3",
   "version": "3.13.3"
  }
 },
 "nbformat": 4,
 "nbformat_minor": 5
}
